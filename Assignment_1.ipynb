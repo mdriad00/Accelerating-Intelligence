{
 "cells": [
  {
   "cell_type": "markdown",
   "metadata": {},
   "source": [
    "# 1 . Write a pythom program to find those numbers which are divisible by 7 and multiple of 5, between 1500 and 2700(both included)"
   ]
  },
  {
   "cell_type": "code",
   "execution_count": 1,
   "metadata": {},
   "outputs": [
    {
     "name": "stdout",
     "output_type": "stream",
     "text": [
      "1505\n",
      "1540\n",
      "1575\n",
      "1610\n",
      "1645\n",
      "1680\n",
      "1715\n",
      "1750\n",
      "1785\n",
      "1820\n",
      "1855\n",
      "1890\n",
      "1925\n",
      "1960\n",
      "1995\n",
      "2030\n",
      "2065\n",
      "2100\n",
      "2135\n",
      "2170\n",
      "2205\n",
      "2240\n",
      "2275\n",
      "2310\n",
      "2345\n",
      "2380\n",
      "2415\n",
      "2450\n",
      "2485\n",
      "2520\n",
      "2555\n",
      "2590\n",
      "2625\n",
      "2660\n",
      "2695\n"
     ]
    }
   ],
   "source": [
    "i=1500\n",
    "while i<=2700:\n",
    "    if i%7==0 and i%5==0:\n",
    "        print(i)\n",
    "    i=i+5"
   ]
  },
  {
   "cell_type": "markdown",
   "metadata": {},
   "source": [
    "# 2. Write a python programme to convert tamperature from celsius to fahrenheit"
   ]
  },
  {
   "cell_type": "code",
   "execution_count": 2,
   "metadata": {},
   "outputs": [
    {
     "name": "stdout",
     "output_type": "stream",
     "text": [
      "Enter Celsius value : 36.5\n",
      "36.5 Celsius is equal to 97.7 Fahrenheit\n"
     ]
    }
   ],
   "source": [
    "celsius = float(input(\"Enter Celsius value : \"))\n",
    "fahrenheit = (9*celsius/5)+32\n",
    "print(celsius,\"Celsius is equal to\",fahrenheit,\"Fahrenheit\")"
   ]
  },
  {
   "cell_type": "markdown",
   "metadata": {},
   "source": [
    "# 3. let's say n is an integer. Write a python program that will do the below task:\n",
    "<h4>if n is odd, print \"OK\"<br>\n",
    "    if n is even and in the inclusive range of 2 to 5, print \"Not OK\"<br>\n",
    "    if n is even and in the inclusive range of 6 to 20, print \"Ok\"<br>\n",
    "    if n is even and greater than 20, print\"Ok\"</h4>"
   ]
  },
  {
   "cell_type": "code",
   "execution_count": 3,
   "metadata": {},
   "outputs": [
    {
     "name": "stdout",
     "output_type": "stream",
     "text": [
      "Enter an integer number : 21\n",
      "Ok\n"
     ]
    }
   ],
   "source": [
    "n = int(input(\"Enter an integer number : \"))\n",
    "\n",
    "if n%2!=0:\n",
    "    print(\"Ok\")\n",
    "if n%2==0 and 2<=n<=5:\n",
    "    print(\"Not Ok\")\n",
    "if n%2==0 and 6<=n<=20:\n",
    "    print(\"Ok\")\n",
    "if n%2==0 and n>20:\n",
    "    print(\"Ok\")"
   ]
  },
  {
   "cell_type": "code",
   "execution_count": null,
   "metadata": {},
   "outputs": [],
   "source": []
  }
 ],
 "metadata": {
  "kernelspec": {
   "display_name": "Python 3",
   "language": "python",
   "name": "python3"
  },
  "language_info": {
   "codemirror_mode": {
    "name": "ipython",
    "version": 3
   },
   "file_extension": ".py",
   "mimetype": "text/x-python",
   "name": "python",
   "nbconvert_exporter": "python",
   "pygments_lexer": "ipython3",
   "version": "3.7.6"
  }
 },
 "nbformat": 4,
 "nbformat_minor": 4
}
